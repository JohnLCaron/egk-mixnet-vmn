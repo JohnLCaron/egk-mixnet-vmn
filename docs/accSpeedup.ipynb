{
 "cells": [
  {
   "cell_type": "code",
   "execution_count": null,
   "metadata": {
    "collapsed": true
   },
   "outputs": [],
   "source": []
  },
  {
   "cell_type": "code",
   "outputs": [],
   "source": [
    "%use kandy\n",
    "// If you are using dataframe as data\n",
    "%use dataframe\n",
    "\n",
    "fun proofExp(n:Int, w:Int): Int = 2*n*w + n - 1\n",
    "fun proofAcc(n:Int, w:Int): Int =  2*n*w + 6*n + 2*w + 4\n",
    "fun speedup(n:Int, w:Int): Double {\n",
    "    val accPercent = proofAcc(n, w).toDouble() / (proofExp(n, w) + proofAcc(n, w)) // acc/(acc+exp)\n",
    "    val ispeedup = (1.0 - accPercent) + accPercent / 3 // (1-%acc) + %acc/3\n",
    "    return 1.0/ispeedup - 1.0\n",
    "}\n",
    "\n",
    "val nrows = listOf(1, 2, 4, 8, 16, 32, 1000)\n",
    "val width1 = nrows.map{ speedup(it, 1) }\n",
    "val width5 = nrows.map{ speedup(it, 5) }\n",
    "val width10 = nrows.map{ speedup(it, 10) }\n",
    "val width30 = nrows.map{ speedup(it, 30) }\n",
    "\n",
    "val dataset = dataFrameOf(\n",
    "    \"nrows\" to nrows + nrows + nrows + nrows,\n",
    "    \"speedup\" to width1 + width5 + width10 + width30, \n",
    "    \"width\" to List(nrows.size) { \"1\" } + List(nrows.size) { \"5\" } + List(nrows.size) { \"10\" } + List(nrows.size) { \"30\" }\n",
    ")\n",
    "\n",
    "val myPlot = dataset.groupBy(\"width\").plot {\n",
    "    line {\n",
    "        x(\"nrows\")\n",
    "        y(\"speedup\")\n",
    "        color(\"width\")\n",
    "    }\n",
    "        layout {\n",
    "        size = 800 to 800\n",
    "    }\n",
    "}\n",
    "\n",
    "val pathPNG = myPlot.save(\"accSpeedup.png\")"
   ],
   "metadata": {
    "collapsed": false,
    "ExecuteTime": {
     "end_time": "2024-01-22T00:48:42.181407279Z",
     "start_time": "2024-01-22T00:47:31.607460076Z"
    }
   },
   "execution_count": 20
  },
  {
   "cell_type": "code",
   "outputs": [],
   "source": [],
   "metadata": {
    "collapsed": false
   }
  }
 ],
 "metadata": {
  "kernelspec": {
   "display_name": "Kotlin",
   "language": "kotlin",
   "name": "kotlin"
  },
  "language_info": {
   "name": "kotlin",
   "version": "1.9.0",
   "mimetype": "text/x-kotlin",
   "file_extension": ".kt",
   "pygments_lexer": "kotlin",
   "codemirror_mode": "text/x-kotlin",
   "nbconvert_exporter": ""
  }
 },
 "nbformat": 4,
 "nbformat_minor": 0
}
